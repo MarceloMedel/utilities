{
 "cells": [
  {
   "cell_type": "code",
   "execution_count": 1,
   "metadata": {},
   "outputs": [],
   "source": [
    "import os\n",
    "import datetime\n",
    "import pandas as pd"
   ]
  },
  {
   "cell_type": "code",
   "execution_count": 6,
   "metadata": {},
   "outputs": [],
   "source": [
    "def check_data(data, null_col=False, msg=True):\n",
    "    rows = data.shape[0]\n",
    "    cols = data.shape[1]\n",
    "    col_name = data.columns\n",
    "    if null_col is True:\n",
    "        dict_col_null = check_col_null(data,col_name,msg=msg)\n",
    "    return rows, cols, dict_col_null"
   ]
  },
  {
   "cell_type": "code",
   "execution_count": null,
   "metadata": {},
   "outputs": [],
   "source": [
    "#Carga funciones\n",
    "def check_col_null(data, header, save_plt=False,dir_name=None, msg=False):  \n",
    "    ''' Esta funcion muestra (default:msg=False) en pantalla la cantidad de datos nulos para las columnas específicas de un dataframe y guarda plots para las \n",
    "        columnas (default:save_plt=False)\n",
    "        Recibe como input el dataframe y las columnas a evaluar.\n",
    "    '''\n",
    "    #header = [a for a in list(data) if a in data]\n",
    "    null_values_col = []\n",
    "    non_null_col = []\n",
    "    dict_col_null = {}\n",
    "    i = 0\n",
    "    for col in header:\n",
    "        i += 1\n",
    "        col_type = data[col].dtype\n",
    "        na_values = data[col].isnull().sum()\n",
    "        q_values = data[col].count()\n",
    "        p_null = (na_values/(na_values+q_values))*100\n",
    "        if p_null>0:\n",
    "            if msg is True:\n",
    "                print('Columna {} tiene {:.2f}% ({:d}) de valores nulos'.format(col,p_null,na_values))\n",
    "            null_values_col.append(col)\n",
    "            dict_col_null.update({col:[na_values,q_values,p_null]})\n",
    "            #print(dict_col_null)\n",
    "        else:\n",
    "            non_null_col.append(col)\n",
    "            if msg is True:\n",
    "                print('Columna {} no tiene valores nulos, tipo de columna= {}'.format(col,col_type))\n",
    "    if save_plt== True:           \n",
    "        save_plot(data,null_values_col)\n",
    "        save_plot(data,non_null_col)\n",
    "    return dict_col_null"
   ]
  },
  {
   "cell_type": "code",
   "execution_count": null,
   "metadata": {},
   "outputs": [],
   "source": [
    "#Funcion tomada de curso de Udacity\n",
    "def pca_results_plt(good_data, pca,figsize= (14,8)):\n",
    "\t'''\n",
    "\tCreate a DataFrame of the PCA results\n",
    "\tIncludes dimension feature weights and explained variance\n",
    "\tVisualizes the PCA results\n",
    "\t'''\n",
    "\n",
    "\t# Dimension indexing\n",
    "\tdimensions = dimensions = ['Dimension {}'.format(i) for i in range(1,len(pca.components_)+1)]\n",
    "\n",
    "\t# PCA components\n",
    "\tcomponents = pd.DataFrame(np.round(pca.components_, 4), columns = list(good_data.keys()))\n",
    "\tcomponents.index = dimensions\n",
    "\n",
    "\t# PCA explained variance\n",
    "\tratios = pca.explained_variance_ratio_.reshape(len(pca.components_), 1)\n",
    "\tvariance_ratios = pd.DataFrame(np.round(ratios, 4), columns = ['Explained Variance'])\n",
    "\tvariance_ratios.index = dimensions\n",
    "\n",
    "\t# Create a bar plot visualization\n",
    "\tfig, ax = plt.subplots(figsize = figsize)\n",
    "\n",
    "\t# Plot the feature weights as a function of the components\n",
    "\tcomponents.plot(ax = ax, kind = 'bar');\n",
    "\tax.set_ylabel(\"Feature Weights\")\n",
    "\tax.set_xticklabels(dimensions, rotation=0)\n",
    "\tax.legend(frameon=False, loc='lower center', ncol=4)\n",
    "\t\n",
    "\n",
    "\n",
    "\t# Display the explained variance ratios\n",
    "\t#for i, ev in enumerate(pca.explained_variance_ratio_):\n",
    "\t\t#ax.text(i-0.40, ax.get_ylim()[1] + 0.05, \"Explained\\nVariance\\n          %.4f\"%(ev))\n",
    "\n",
    "\t#Return a concatenated DataFrame\n",
    "\treturn pd.concat([variance_ratios, components], axis = 1)\n",
    "\n",
    "\n",
    "from sklearn.decomposition import PCA\n",
    "#load data in sample \n",
    "pca = PCA(n_components = 8).fit(sample)\n",
    "\n",
    "\n",
    "#Generate PCA results plot\n",
    "pca_results = pca_results_plt(sample, pca)\n"
   ]
  }
 ],
 "metadata": {
  "kernelspec": {
   "display_name": "Python 3",
   "language": "python",
   "name": "python3"
  },
  "language_info": {
   "codemirror_mode": {
    "name": "ipython",
    "version": 3
   },
   "file_extension": ".py",
   "mimetype": "text/x-python",
   "name": "python",
   "nbconvert_exporter": "python",
   "pygments_lexer": "ipython3",
   "version": "3.7.3"
  }
 },
 "nbformat": 4,
 "nbformat_minor": 4
}
