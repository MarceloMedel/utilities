{
 "cells": [
  {
   "cell_type": "code",
   "execution_count": 1,
   "metadata": {},
   "outputs": [],
   "source": [
    "import os\n",
    "import datetime\n",
    "import pandas as pd"
   ]
  },
  {
   "cell_type": "code",
   "execution_count": 6,
   "metadata": {},
   "outputs": [],
   "source": [
    "def check_data(data, null_col=False, msg=True):\n",
    "    rows = data.shape[0]\n",
    "    cols = data.shape[1]\n",
    "    col_name = data.columns\n",
    "    if null_col is True:\n",
    "        dict_col_null = check_col_null(data,col_name,msg=msg)\n",
    "    return rows, cols, dict_col_null"
   ]
  },
  {
   "cell_type": "code",
   "execution_count": null,
   "metadata": {},
   "outputs": [],
   "source": [
    "#Carga funciones\n",
    "def check_col_null(data, header, save_plt=False,dir_name=None, msg=False):  \n",
    "    ''' Esta funcion muestra (default:msg=False) en pantalla la cantidad de datos nulos para las columnas específicas de un dataframe y guarda plots para las \n",
    "        columnas (default:save_plt=False)\n",
    "        Recibe como input el dataframe y las columnas a evaluar.\n",
    "    '''\n",
    "    #header = [a for a in list(data) if a in data]\n",
    "    null_values_col = []\n",
    "    non_null_col = []\n",
    "    dict_col_null = {}\n",
    "    i = 0\n",
    "    for col in header:\n",
    "        i += 1\n",
    "        col_type = data[col].dtype\n",
    "        na_values = data[col].isnull().sum()\n",
    "        q_values = data[col].count()\n",
    "        p_null = (na_values/(na_values+q_values))*100\n",
    "        if p_null>0:\n",
    "            if msg is True:\n",
    "                print('Columna {} tiene {:.2f}% ({:d}) de valores nulos'.format(col,p_null,na_values))\n",
    "            null_values_col.append(col)\n",
    "            dict_col_null.update({col:[na_values,q_values,p_null]})\n",
    "            #print(dict_col_null)\n",
    "        else:\n",
    "            non_null_col.append(col)\n",
    "            if msg is True:\n",
    "                print('Columna {} no tiene valores nulos, tipo de columna= {}'.format(col,col_type))\n",
    "    if save_plt== True:           \n",
    "        save_plot(data,null_values_col)\n",
    "        save_plot(data,non_null_col)\n",
    "    return dict_col_null"
   ]
  }
 ],
 "metadata": {
  "kernelspec": {
   "display_name": "Python 3",
   "language": "python",
   "name": "python3"
  },
  "language_info": {
   "codemirror_mode": {
    "name": "ipython",
    "version": 3
   },
   "file_extension": ".py",
   "mimetype": "text/x-python",
   "name": "python",
   "nbconvert_exporter": "python",
   "pygments_lexer": "ipython3",
   "version": "3.7.3"
  }
 },
 "nbformat": 4,
 "nbformat_minor": 4
}
